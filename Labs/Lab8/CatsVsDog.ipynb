{
 "cells": [
  {
   "cell_type": "markdown",
   "metadata": {},
   "source": [
    "##### The Dogs vs. Cats dataset that you’ll use isn’t packaged with Keras. It was made available by Kaggle as part of a computer-vision competition in late 2013, back when convnets weren’t mainstream. You can download the original dataset from www.kaggle.com/c/dogs-vs-cats/data (you’ll need to create a Kaggle account if you don’t already have one—don’t worry, the process is painless)."
   ]
  },
  {
   "cell_type": "markdown",
   "metadata": {},
   "source": [
    "Unsurprisingly, the dogs-versus-cats Kaggle competition in 2013 was won by entrants who used convnets. The best entries achieved up to 95% accuracy. In this example, you’ll get fairly close to this accuracy (in the next section), even though you’ll train\n",
    "your models on less than 10% of the data that was available to the competitors. This dataset contains 25,000 images of dogs and cats (12,500 from each class) and is 543 MB (compressed). After downloading and uncompressing it, you’ll create a new dataset containing three subsets: a training set with 1,000 samples of each class, a validation set with 500 samples of each class, and a test set with 500 samples of each class."
   ]
  },
  {
   "cell_type": "code",
   "execution_count": 1,
   "metadata": {},
   "outputs": [],
   "source": [
    "import os, shutil\n",
    "original_dataset_dir = 'C:/Users/admin/Desktop/labs/ce888labs/Labs/Lab8/dogs-vs-cats/train'"
   ]
  },
  {
   "cell_type": "code",
   "execution_count": 2,
   "metadata": {},
   "outputs": [],
   "source": [
    "base_dir = 'C:/Users/admin/Desktop/labs/ce888labs/Labs/Lab8/dogs-vs-cats_small'\n",
    "os.mkdir(base_dir)"
   ]
  },
  {
   "cell_type": "code",
   "execution_count": 3,
   "metadata": {},
   "outputs": [],
   "source": [
    "train_dir = os.path.join(base_dir, 'train')\n",
    "os.mkdir(train_dir)\n",
    "\n",
    "validation_dir = os.path.join(base_dir, 'validation')\n",
    "os.mkdir(validation_dir)\n",
    "\n",
    "test_dir = os.path.join(base_dir, 'test')\n",
    "os.mkdir(test_dir)\n",
    "\n",
    "train_cats_dir = os.path.join(train_dir, 'cats')\n",
    "os.mkdir(train_cats_dir)\n",
    "\n",
    "train_dogs_dir = os.path.join(train_dir, 'dogs')\n",
    "os.mkdir(train_dogs_dir)\n",
    "\n",
    "validation_cats_dir = os.path.join(validation_dir, 'cats')\n",
    "os.mkdir(validation_cats_dir)\n",
    "\n",
    "validation_dogs_dir = os.path.join(validation_dir, 'dogs')\n",
    "os.mkdir(validation_dogs_dir)\n",
    "\n",
    "test_cats_dir = os.path.join(test_dir, 'cats')\n",
    "os.mkdir(test_cats_dir)\n",
    "\n",
    "test_dogs_dir = os.path.join(test_dir, 'dogs')\n",
    "os.mkdir(test_dogs_dir)"
   ]
  },
  {
   "cell_type": "code",
   "execution_count": 4,
   "metadata": {},
   "outputs": [],
   "source": [
    "fnames = ['cat.{}.jpg'.format(i) for i in range(1000)]\n",
    "for fname in fnames:\n",
    "    src = os.path.join(original_dataset_dir, fname)\n",
    "    dst = os.path.join(train_cats_dir, fname)\n",
    "    #print(src,dst)\n",
    "    shutil.copyfile(src, dst)\n",
    "    \n",
    "fnames = ['cat.{}.jpg'.format(i) for i in range(1000, 1500)]\n",
    "for fname in fnames:\n",
    "    src = os.path.join(original_dataset_dir, fname)\n",
    "    dst = os.path.join(validation_cats_dir, fname)\n",
    "    shutil.copyfile(src, dst)\n",
    "\n",
    "fnames = ['cat.{}.jpg'.format(i) for i in range(1500, 2000)]\n",
    "for fname in fnames:\n",
    "    src = os.path.join(original_dataset_dir, fname)\n",
    "    dst = os.path.join(test_cats_dir, fname)\n",
    "    shutil.copyfile(src, dst)\n",
    "    \n",
    "fnames = ['dog.{}.jpg'.format(i) for i in range(1000)]\n",
    "for fname in fnames:\n",
    "    src = os.path.join(original_dataset_dir, fname)\n",
    "    dst = os.path.join(train_dogs_dir, fname)\n",
    "    shutil.copyfile(src, dst)\n",
    "\n",
    "fnames = ['dog.{}.jpg'.format(i) for i in range(1000, 1500)]\n",
    "for fname in fnames:\n",
    "    src = os.path.join(original_dataset_dir, fname)\n",
    "    dst = os.path.join(validation_dogs_dir, fname)\n",
    "    shutil.copyfile(src, dst)\n",
    "\n",
    "fnames = ['dog.{}.jpg'.format(i) for i in range(1500, 2000)]\n",
    "for fname in fnames:\n",
    "    src = os.path.join(original_dataset_dir, fname)\n",
    "    dst = os.path.join(test_dogs_dir, fname)\n",
    "    shutil.copyfile(src, dst)"
   ]
  },
  {
   "cell_type": "code",
   "execution_count": 5,
   "metadata": {},
   "outputs": [
    {
     "name": "stdout",
     "output_type": "stream",
     "text": [
      "total training cat images: 1000\n",
      "total training dog images: 1000\n",
      "total validation cat images: 500\n",
      "total validation dog images: 500\n",
      "total test cat images: 500\n",
      "total test dog images: 500\n"
     ]
    }
   ],
   "source": [
    "print('total training cat images:', len(os.listdir(train_cats_dir)))\n",
    "print('total training dog images:', len(os.listdir(train_dogs_dir)))\n",
    "print('total validation cat images:', len(os.listdir(validation_cats_dir)))\n",
    "\n",
    "print('total validation dog images:', len(os.listdir(validation_dogs_dir)))\n",
    "print('total test cat images:', len(os.listdir(test_cats_dir)))\n",
    "print('total test dog images:', len(os.listdir(test_dogs_dir)))\n"
   ]
  },
  {
   "cell_type": "code",
   "execution_count": 6,
   "metadata": {},
   "outputs": [
    {
     "name": "stderr",
     "output_type": "stream",
     "text": [
      "Using TensorFlow backend.\n"
     ]
    },
    {
     "name": "stdout",
     "output_type": "stream",
     "text": [
      "_________________________________________________________________\n",
      "Layer (type)                 Output Shape              Param #   \n",
      "=================================================================\n",
      "conv2d_1 (Conv2D)            (None, 148, 148, 32)      896       \n",
      "_________________________________________________________________\n",
      "max_pooling2d_1 (MaxPooling2 (None, 74, 74, 32)        0         \n",
      "_________________________________________________________________\n",
      "conv2d_2 (Conv2D)            (None, 72, 72, 64)        18496     \n",
      "_________________________________________________________________\n",
      "max_pooling2d_2 (MaxPooling2 (None, 36, 36, 64)        0         \n",
      "_________________________________________________________________\n",
      "conv2d_3 (Conv2D)            (None, 34, 34, 128)       73856     \n",
      "_________________________________________________________________\n",
      "max_pooling2d_3 (MaxPooling2 (None, 17, 17, 128)       0         \n",
      "_________________________________________________________________\n",
      "conv2d_4 (Conv2D)            (None, 15, 15, 128)       147584    \n",
      "_________________________________________________________________\n",
      "max_pooling2d_4 (MaxPooling2 (None, 7, 7, 128)         0         \n",
      "_________________________________________________________________\n",
      "flatten_1 (Flatten)          (None, 6272)              0         \n",
      "_________________________________________________________________\n",
      "dense_1 (Dense)              (None, 512)               3211776   \n",
      "_________________________________________________________________\n",
      "dense_2 (Dense)              (None, 1)                 513       \n",
      "=================================================================\n",
      "Total params: 3,453,121\n",
      "Trainable params: 3,453,121\n",
      "Non-trainable params: 0\n",
      "_________________________________________________________________\n"
     ]
    }
   ],
   "source": [
    "from keras import layers\n",
    "from keras import models\n",
    "\n",
    "model = models.Sequential()\n",
    "model.add(layers.Conv2D(32, (3, 3), activation='relu', input_shape=(150, 150, 3)))\n",
    "model.add(layers.MaxPooling2D((2, 2)))\n",
    "model.add(layers.Conv2D(64, (3, 3), activation='relu'))\n",
    "model.add(layers.MaxPooling2D((2, 2)))\n",
    "model.add(layers.Conv2D(128, (3, 3), activation='relu'))\n",
    "model.add(layers.MaxPooling2D((2, 2)))\n",
    "model.add(layers.Conv2D(128, (3, 3), activation='relu'))\n",
    "model.add(layers.MaxPooling2D((2, 2)))\n",
    "model.add(layers.Flatten())\n",
    "model.add(layers.Dense(512, activation='relu'))\n",
    "model.add(layers.Dense(1, activation='sigmoid'))\n",
    "model.summary()"
   ]
  },
  {
   "cell_type": "code",
   "execution_count": 7,
   "metadata": {},
   "outputs": [],
   "source": [
    "from keras import optimizers\n",
    "model.compile(loss='binary_crossentropy', \n",
    "              optimizer=optimizers.RMSprop(lr=1e-4),\n",
    "              metrics=['acc'])"
   ]
  },
  {
   "cell_type": "markdown",
   "metadata": {},
   "source": [
    "## Using ImageDataGenerator to read images from directories"
   ]
  },
  {
   "cell_type": "markdown",
   "metadata": {},
   "source": [
    "As you know by now, data should be formatted into appropriately preprocessed floatingpoint tensors before being fed\n",
    "into the network. Currently, the data sits on a drive as JPEG files, so the steps for getting it into the network\n",
    "are roughly as follows:\n",
    "    \n",
    "1. Read the picture files.\n",
    "2. Decode the JPEG content to RGB grids of pixels.\n",
    "3. Convert these into floating-point tensors.\n",
    "4. Rescale the pixel values (between 0 and 255) to the [0, 1] interval (as you know, neural networks prefer to deal with small input values).\n",
    "\n",
    "It may seem a bit daunting, but fortunately Keras has utilities to take care of these steps automatically. Keras has a module with image-processing helper tools, located at keras.preprocessing.image. In particular, it contains the class ImageDataGenerator,which lets you quickly set up Python generators that can automatically turn image files\n",
    "on disk into batches of preprocessed tensors."
   ]
  },
  {
   "cell_type": "code",
   "execution_count": 8,
   "metadata": {},
   "outputs": [
    {
     "name": "stdout",
     "output_type": "stream",
     "text": [
      "Found 2000 images belonging to 2 classes.\n",
      "Found 1000 images belonging to 2 classes.\n"
     ]
    }
   ],
   "source": [
    "from keras.preprocessing.image import ImageDataGenerator\n",
    "\n",
    "train_datagen = ImageDataGenerator(rescale=1./255)\n",
    "test_datagen = ImageDataGenerator(rescale=1./255)\n",
    "\n",
    "train_generator = train_datagen.flow_from_directory(train_dir,\n",
    "                                                    target_size=(150, 150), \n",
    "                                                    batch_size=20,\n",
    "                                                    class_mode='binary')\n",
    "\n",
    "validation_generator = test_datagen.flow_from_directory(validation_dir,\n",
    "                                                        target_size=(150, 150),\n",
    "                                                        batch_size=20,\n",
    "                                                        class_mode='binary')"
   ]
  },
  {
   "cell_type": "markdown",
   "metadata": {},
   "source": [
    "Let’s fit the model to the data using the `generator`. You do so using the `fit_generator` method, the equivalent of `fit` for\n",
    "data generators like this one. It expects as its first argument a Python generator that will yield batches of inputs and\n",
    "targets indefinitely,like this one does. Because the data is being generated endlessly, the Keras model needs to know how\n",
    "many samples to draw from the generator before declaring anepoch over. This is the role of the `steps_per_epoch` argument:\n",
    "after having drawn `steps_per_epoch` batches from the generator—that is, after having run for `steps_per_epoch` gradient descent steps—the fitting process will go to the next epoch. In this case, batches are 20 samples, so it will take 100 batches until \n",
    "you see your target of 2,000 samples.\n",
    "\n",
    "When using `fit_generator`, you can pass a `validation_data` argument, much as with the fit method. It’s important to note that \n",
    "this argument is allowed to be a data generator, but it could also be a tuple of Numpy arrays. If you pass a generator as `validation_data`, then this generator is expected to yield batches of validation data endlessly; thus you should also specify\n",
    "the `validation_steps` argument, which tells the process how many batches to draw from the validation generator for evaluation."
   ]
  },
  {
   "cell_type": "code",
   "execution_count": 9,
   "metadata": {
    "scrolled": false
   },
   "outputs": [
    {
     "name": "stdout",
     "output_type": "stream",
     "text": [
      "Epoch 1/30\n",
      "100/100 [==============================] - 305s - loss: 0.6962 - acc: 0.5245 - val_loss: 0.6819 - val_acc: 0.6550\n",
      "Epoch 2/30\n",
      "100/100 [==============================] - 300s - loss: 0.6684 - acc: 0.6020 - val_loss: 0.6620 - val_acc: 0.5850\n",
      "Epoch 3/30\n",
      "100/100 [==============================] - 297s - loss: 0.6167 - acc: 0.6655 - val_loss: 0.6074 - val_acc: 0.7000\n",
      "Epoch 4/30\n",
      "100/100 [==============================] - 299s - loss: 0.5682 - acc: 0.7040 - val_loss: 0.7581 - val_acc: 0.5700\n",
      "Epoch 5/30\n",
      "100/100 [==============================] - 304s - loss: 0.5356 - acc: 0.7380 - val_loss: 0.5731 - val_acc: 0.7000\n",
      "Epoch 6/30\n",
      "100/100 [==============================] - 299s - loss: 0.5106 - acc: 0.7570 - val_loss: 0.5748 - val_acc: 0.6800\n",
      "Epoch 7/30\n",
      "100/100 [==============================] - 278s - loss: 0.4830 - acc: 0.7660 - val_loss: 0.5788 - val_acc: 0.7200\n",
      "Epoch 8/30\n",
      "100/100 [==============================] - 295s - loss: 0.4430 - acc: 0.7940 - val_loss: 0.6204 - val_acc: 0.6550\n",
      "Epoch 9/30\n",
      "100/100 [==============================] - 298s - loss: 0.4254 - acc: 0.7995 - val_loss: 0.5494 - val_acc: 0.7050\n",
      "Epoch 10/30\n",
      "100/100 [==============================] - 298s - loss: 0.3961 - acc: 0.8165 - val_loss: 0.5886 - val_acc: 0.6900\n",
      "Epoch 11/30\n",
      "100/100 [==============================] - 299s - loss: 0.3677 - acc: 0.8370 - val_loss: 0.6550 - val_acc: 0.6750\n",
      "Epoch 12/30\n",
      "100/100 [==============================] - 306s - loss: 0.3456 - acc: 0.8510 - val_loss: 0.6499 - val_acc: 0.7150\n",
      "Epoch 13/30\n",
      "100/100 [==============================] - 310s - loss: 0.3137 - acc: 0.8655 - val_loss: 0.8978 - val_acc: 0.6000\n",
      "Epoch 14/30\n",
      "100/100 [==============================] - 312s - loss: 0.2765 - acc: 0.8850 - val_loss: 0.5501 - val_acc: 0.7450\n",
      "Epoch 15/30\n",
      "100/100 [==============================] - 301s - loss: 0.2626 - acc: 0.8885 - val_loss: 0.7235 - val_acc: 0.6950\n",
      "Epoch 16/30\n",
      "100/100 [==============================] - 298s - loss: 0.2365 - acc: 0.9045 - val_loss: 0.7586 - val_acc: 0.6600\n",
      "Epoch 17/30\n",
      "100/100 [==============================] - 299s - loss: 0.2125 - acc: 0.9200 - val_loss: 0.7148 - val_acc: 0.7200\n",
      "Epoch 18/30\n",
      "100/100 [==============================] - 301s - loss: 0.1833 - acc: 0.9310 - val_loss: 0.8776 - val_acc: 0.7100\n",
      "Epoch 19/30\n",
      "100/100 [==============================] - 294s - loss: 0.1707 - acc: 0.9355 - val_loss: 0.7271 - val_acc: 0.7250\n",
      "Epoch 20/30\n",
      "100/100 [==============================] - 273s - loss: 0.1420 - acc: 0.9500 - val_loss: 1.1506 - val_acc: 0.6250\n",
      "Epoch 21/30\n",
      "100/100 [==============================] - 298s - loss: 0.1202 - acc: 0.9650 - val_loss: 0.7186 - val_acc: 0.7550\n",
      "Epoch 22/30\n",
      "100/100 [==============================] - 297s - loss: 0.1048 - acc: 0.9605 - val_loss: 0.7367 - val_acc: 0.7750\n",
      "Epoch 23/30\n",
      "100/100 [==============================] - 298s - loss: 0.0946 - acc: 0.9695 - val_loss: 1.1460 - val_acc: 0.6500\n",
      "Epoch 24/30\n",
      "100/100 [==============================] - 299s - loss: 0.0833 - acc: 0.9725 - val_loss: 1.2868 - val_acc: 0.6800\n",
      "Epoch 25/30\n",
      "100/100 [==============================] - 296s - loss: 0.0704 - acc: 0.9800 - val_loss: 0.9620 - val_acc: 0.7100\n",
      "Epoch 26/30\n",
      "100/100 [==============================] - 298s - loss: 0.0589 - acc: 0.9830 - val_loss: 1.1644 - val_acc: 0.7200\n",
      "Epoch 27/30\n",
      "100/100 [==============================] - 297s - loss: 0.0567 - acc: 0.9820 - val_loss: 0.8443 - val_acc: 0.7500\n",
      "Epoch 28/30\n",
      "100/100 [==============================] - 297s - loss: 0.0456 - acc: 0.9840 - val_loss: 1.4020 - val_acc: 0.7100\n",
      "Epoch 29/30\n",
      "100/100 [==============================] - 297s - loss: 0.0359 - acc: 0.9910 - val_loss: 1.1523 - val_acc: 0.6900\n",
      "Epoch 30/30\n",
      "100/100 [==============================] - 296s - loss: 0.0319 - acc: 0.9925 - val_loss: 1.7997 - val_acc: 0.6750\n"
     ]
    }
   ],
   "source": [
    "history = model.fit_generator(train_generator,\n",
    "                              steps_per_epoch=100,\n",
    "                              epochs=30,\n",
    "                              validation_data=validation_generator,\n",
    "                              validation_steps=10)"
   ]
  },
  {
   "cell_type": "code",
   "execution_count": 10,
   "metadata": {},
   "outputs": [],
   "source": [
    "model.save('cats_and_dogs_small_1.h5')"
   ]
  },
  {
   "cell_type": "code",
   "execution_count": 12,
   "metadata": {},
   "outputs": [
    {
     "data": {
      "image/png": "[encoded data removed]",
      "text/plain": [
       "<Figure size 432x288 with 1 Axes>"
      ]
     },
     "metadata": {
      "needs_background": "light"
     },
     "output_type": "display_data"
    },
    {
     "data": {
      "image/png": "[encoded data removed]",
      "text/plain": [
       "<Figure size 432x288 with 1 Axes>"
      ]
     },
     "metadata": {
      "needs_background": "light"
     },
     "output_type": "display_data"
    }
   ],
   "source": [
    "import matplotlib.pyplot as plt\n",
    "\n",
    "acc = history.history['acc']\n",
    "val_acc = history.history['val_acc']\n",
    "loss = history.history['loss']\n",
    "val_loss = history.history['val_loss']\n",
    "\n",
    "epochs = range(1, len(acc) + 1)\n",
    "\n",
    "plt.plot(epochs, acc, 'bo', label='Training acc')\n",
    "plt.plot(epochs, val_acc, 'b', label='Validation acc')\n",
    "plt.title('Training and validation accuracy')\n",
    "plt.legend()\n",
    "\n",
    "plt.figure()\n",
    "\n",
    "plt.plot(epochs, loss, 'bo', label='Training loss')\n",
    "plt.plot(epochs, val_loss, 'b', label='Validation loss')\n",
    "plt.title('Training and validation loss')\n",
    "plt.legend()\n",
    "\n",
    "plt.show()"
   ]
  },
  {
   "cell_type": "markdown",
   "metadata": {},
   "source": [
    "## Convolutional Networks with Dropout"
   ]
  },
  {
   "cell_type": "code",
   "execution_count": 13,
   "metadata": {},
   "outputs": [],
   "source": [
    "model = models.Sequential()\n",
    "model.add(layers.Conv2D(32, (3, 3), activation='relu',\n",
    "input_shape=(150, 150, 3)))\n",
    "model.add(layers.MaxPooling2D((2, 2)))\n",
    "model.add(layers.Conv2D(64, (3, 3), activation='relu'))\n",
    "model.add(layers.MaxPooling2D((2, 2)))\n",
    "model.add(layers.Conv2D(128, (3, 3), activation='relu'))\n",
    "model.add(layers.MaxPooling2D((2, 2)))\n",
    "model.add(layers.Conv2D(128, (3, 3), activation='relu'))\n",
    "model.add(layers.MaxPooling2D((2, 2)))\n",
    "model.add(layers.Flatten())\n",
    "model.add(layers.Dropout(0.5))\n",
    "model.add(layers.Dense(512, activation='relu'))\n",
    "model.add(layers.Dense(1, activation='sigmoid'))\n",
    "\n",
    "model.compile(loss='binary_crossentropy',\n",
    "              optimizer=optimizers.RMSprop(lr=1e-4),\n",
    "              metrics=['acc'])"
   ]
  },
  {
   "cell_type": "code",
   "execution_count": 14,
   "metadata": {
    "scrolled": true
   },
   "outputs": [
    {
     "name": "stdout",
     "output_type": "stream",
     "text": [
      "Found 2000 images belonging to 2 classes.\n",
      "Found 1000 images belonging to 2 classes.\n",
      "Epoch 1/20\n",
      "100/100 [==============================] - 512s - loss: 0.6915 - acc: 0.5197 - val_loss: 0.6876 - val_acc: 0.5355\n",
      "Epoch 2/20\n",
      "100/100 [==============================] - 533s - loss: 0.6826 - acc: 0.5534 - val_loss: 0.6641 - val_acc: 0.6012\n",
      "Epoch 3/20\n",
      "100/100 [==============================] - 536s - loss: 0.6653 - acc: 0.5988 - val_loss: 0.6414 - val_acc: 0.6276\n",
      "Epoch 4/20\n",
      "100/100 [==============================] - 533s - loss: 0.6594 - acc: 0.6113 - val_loss: 0.6222 - val_acc: 0.6437\n",
      "Epoch 5/20\n",
      "100/100 [==============================] - 535s - loss: 0.6302 - acc: 0.6344 - val_loss: 0.6101 - val_acc: 0.6669\n",
      "Epoch 6/20\n",
      "100/100 [==============================] - 531s - loss: 0.6232 - acc: 0.6459 - val_loss: 0.5945 - val_acc: 0.6707\n",
      "Epoch 7/20\n",
      "100/100 [==============================] - 534s - loss: 0.6128 - acc: 0.6600 - val_loss: 0.6166 - val_acc: 0.6516\n",
      "Epoch 8/20\n",
      "100/100 [==============================] - 512s - loss: 0.5984 - acc: 0.6678 - val_loss: 0.6013 - val_acc: 0.6516\n",
      "Epoch 9/20\n",
      "100/100 [==============================] - 531s - loss: 0.5882 - acc: 0.6850 - val_loss: 0.5670 - val_acc: 0.7069\n",
      "Epoch 10/20\n",
      "100/100 [==============================] - 543s - loss: 0.5828 - acc: 0.6847 - val_loss: 0.5780 - val_acc: 0.6856\n",
      "Epoch 11/20\n",
      "100/100 [==============================] - 549s - loss: 0.5786 - acc: 0.6872 - val_loss: 0.5824 - val_acc: 0.6675\n",
      "Epoch 12/20\n",
      "100/100 [==============================] - 553s - loss: 0.5782 - acc: 0.6900 - val_loss: 0.5606 - val_acc: 0.7036\n",
      "Epoch 13/20\n",
      "100/100 [==============================] - 552s - loss: 0.5628 - acc: 0.7119 - val_loss: 0.5445 - val_acc: 0.7229\n",
      "Epoch 14/20\n",
      "100/100 [==============================] - 552s - loss: 0.5663 - acc: 0.7028 - val_loss: 0.5351 - val_acc: 0.7367\n",
      "Epoch 15/20\n",
      "100/100 [==============================] - 528s - loss: 0.5539 - acc: 0.7138 - val_loss: 0.5551 - val_acc: 0.7075\n",
      "Epoch 16/20\n",
      "100/100 [==============================] - 530s - loss: 0.5501 - acc: 0.7128 - val_loss: 0.5550 - val_acc: 0.7088\n",
      "Epoch 17/20\n",
      "100/100 [==============================] - 536s - loss: 0.5468 - acc: 0.7169 - val_loss: 0.5258 - val_acc: 0.7386\n",
      "Epoch 18/20\n",
      "100/100 [==============================] - 541s - loss: 0.5408 - acc: 0.7219 - val_loss: 0.5469 - val_acc: 0.7255\n",
      "Epoch 19/20\n",
      "100/100 [==============================] - 546s - loss: 0.5346 - acc: 0.7331 - val_loss: 0.5445 - val_acc: 0.7152\n",
      "Epoch 20/20\n",
      "100/100 [==============================] - 535s - loss: 0.5398 - acc: 0.7188 - val_loss: 0.5138 - val_acc: 0.7436\n"
     ]
    }
   ],
   "source": [
    "train_datagen = ImageDataGenerator(rescale=1./255,\n",
    "                                   rotation_range=40,\n",
    "                                   width_shift_range=0.2,\n",
    "                                   height_shift_range=0.2,\n",
    "                                   shear_range=0.2,\n",
    "                                   zoom_range=0.2,\n",
    "                                   horizontal_flip=True,)\n",
    "\n",
    "test_datagen = ImageDataGenerator(rescale=1./255)\n",
    "\n",
    "train_generator = train_datagen.flow_from_directory(train_dir,\n",
    "                                                    target_size=(150, 150),\n",
    "                                                    batch_size=32,\n",
    "                                                    class_mode='binary')\n",
    "\n",
    "validation_generator = test_datagen.flow_from_directory(validation_dir,\n",
    "                                                        target_size=(150, 150),\n",
    "                                                        batch_size=32,\n",
    "                                                        class_mode='binary')\n",
    "\n",
    "history = model.fit_generator(train_generator,\n",
    "                              steps_per_epoch=100,\n",
    "                              epochs=20,\n",
    "                              validation_data=validation_generator,\n",
    "                              validation_steps=50)"
   ]
  },
  {
   "cell_type": "code",
   "execution_count": 15,
   "metadata": {},
   "outputs": [
    {
     "data": {
      "image/png": "[encoded data removed]",
      "text/plain": [
       "<Figure size 432x288 with 1 Axes>"
      ]
     },
     "metadata": {
      "needs_background": "light"
     },
     "output_type": "display_data"
    },
    {
     "data": {
      "image/png": "[encoded data removed]",
      "text/plain": [
       "<Figure size 432x288 with 1 Axes>"
      ]
     },
     "metadata": {
      "needs_background": "light"
     },
     "output_type": "display_data"
    }
   ],
   "source": [
    "import matplotlib.pyplot as plt\n",
    "\n",
    "acc = history.history['acc']\n",
    "val_acc = history.history['val_acc']\n",
    "loss = history.history['loss']\n",
    "val_loss = history.history['val_loss']\n",
    "\n",
    "epochs = range(1, len(acc) + 1)\n",
    "\n",
    "plt.plot(epochs, acc, 'bo', label='Training acc')\n",
    "plt.plot(epochs, val_acc, 'b', label='Validation acc')\n",
    "plt.title('Training and validation accuracy')\n",
    "plt.legend()\n",
    "\n",
    "plt.figure()\n",
    "\n",
    "plt.plot(epochs, loss, 'bo', label='Training loss')\n",
    "plt.plot(epochs, val_loss, 'b', label='Validation loss')\n",
    "plt.title('Training and validation loss')\n",
    "plt.legend()\n",
    "\n",
    "plt.show()"
   ]
  },
  {
   "cell_type": "code",
   "execution_count": null,
   "metadata": {},
   "outputs": [],
   "source": []
  }
 ],
 "metadata": {
  "kernelspec": {
   "display_name": "Python 3",
   "language": "python",
   "name": "python3"
  },
  "language_info": {
   "codemirror_mode": {
    "name": "ipython",
    "version": 3
   },
   "file_extension": ".py",
   "mimetype": "text/x-python",
   "name": "python",
   "nbconvert_exporter": "python",
   "pygments_lexer": "ipython3",
   "version": "3.6.6"
  }
 },
 "nbformat": 4,
 "nbformat_minor": 2
}
